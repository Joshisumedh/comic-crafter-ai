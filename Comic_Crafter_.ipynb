{
  "cells": [
    {
      "cell_type": "code",
      "execution_count": null,
      "metadata": {
        "id": "DbaBH1BmA-aq"
      },
      "outputs": [],
      "source": [
        "# Install necessary dependencies (Run this only once)\n",
        "!pip install --upgrade torch torchvision torchaudio bitsandbytes diffusers transformers"
      ]
    },
    {
      "cell_type": "code",
      "execution_count": null,
      "metadata": {
        "id": "MVRy_MM4DPkA"
      },
      "outputs": [],
      "source": [
        "import torch\n",
        "from diffusers import StableDiffusionPipeline\n",
        "\n",
        "# Check CUDA availability\n",
        "if torch.cuda.is_available():\n",
        "    device = \"cuda\"\n",
        "    torch_dtype = torch.float16  # GPU efficiency\n",
        "else:\n",
        "    device = \"cpu\"\n",
        "    torch_dtype = torch.float32  # CPU fallback\n",
        "\n",
        "# Load Stable Diffusion model\n",
        "pipe = StableDiffusionPipeline.from_pretrained(\n",
        "    \"stabilityai/stable-diffusion-2\",\n",
        "    torch_dtype=torch_dtype\n",
        ").to(device)\n",
        "\n",
        "# Enable memory optimization\n",
        "if device == \"cuda\":\n",
        "    pipe.enable_attention_slicing()\n",
        "\n"
      ]
    },
    {
      "cell_type": "code",
      "source": [
        "# Get user inputs\n",
        "prompts = {\n",
        "    \"Introduction\": input(\"Enter the Introduction prompt: \"),\n",
        "    \"Storyline\": input(\"Enter the Storyline prompt: \"),\n",
        "    \"Climax\": input(\"Enter the Climax prompt: \"),\n",
        "    \"Model\": input(\"Enter the Model prompt: \")\n",
        "}\n",
        "\n",
        "# Generate and display/save images\n",
        "for section, prompt in prompts.items():\n",
        "    print(f\"Generating image for: {section}...\")\n",
        "    image = pipe(prompt).images[0]\n",
        "    image.show(title=section)\n",
        "    image.save(f\"{section.lower()}_image.png\")\n",
        "\n",
        "print(\"✅ All images generated and saved!\")"
      ],
      "metadata": {
        "id": "Nt4aySqAvviV"
      },
      "execution_count": null,
      "outputs": []
    },
    {
      "cell_type": "code",
      "execution_count": null,
      "metadata": {
        "id": "MJMwqJ2jDTPV"
      },
      "outputs": [],
      "source": [
        "from PIL import Image, ImageDraw, ImageFont\n",
        "from IPython.display import display\n",
        "\n",
        "# Define image files and titles\n",
        "comic_panels = {\n",
        "    \"Introduction\": \"introduction_image.png\",\n",
        "    \"Storyline\": \"storyline_image.png\",\n",
        "    \"Climax\": \"climax_image.png\",\n",
        "    \"Model\": \"model_image.png\"\n",
        "}\n",
        "\n",
        "# Optional: load a font (fallback to default if not found)\n",
        "try:\n",
        "    font = ImageFont.truetype(\"arial.ttf\", 24)\n",
        "except:\n",
        "    font = ImageFont.load_default()\n",
        "\n",
        "# Load images\n",
        "images = [Image.open(img_path).resize((512, 512)) for img_path in comic_panels.values()]\n",
        "\n",
        "# Create a blank canvas (2x2 grid of 512x512 + space for titles)\n",
        "comic_width = 2 * 512\n",
        "comic_height = 2 * 550  # 512 image + ~38px for title\n",
        "comic_page = Image.new(\"RGB\", (comic_width, comic_height), \"white\")\n",
        "\n",
        "draw = ImageDraw.Draw(comic_page)\n",
        "\n",
        "# Paste images and add text\n",
        "x_offsets = [0, 512]\n",
        "y_offsets = [0, 550]\n",
        "\n",
        "for idx, (title, img) in enumerate(zip(comic_panels.keys(), images)):\n",
        "    x = x_offsets[idx % 2]\n",
        "    y = y_offsets[idx // 2]\n",
        "\n",
        "    # Draw title\n",
        "    draw.text((x + 10, y), title, fill=\"black\", font=font)\n",
        "\n",
        "    # Paste image\n",
        "    comic_page.paste(img, (x, y + 38))\n",
        "\n",
        "# Save the comic layout\n",
        "comic_page.save(\"comic_page.png\")\n",
        "comic_page.show()\n",
        "display(comic_page)"
      ]
    },
    {
      "cell_type": "code",
      "source": [
        "!pip install gradio\n"
      ],
      "metadata": {
        "id": "nGTZ9v0wknC_"
      },
      "execution_count": null,
      "outputs": []
    },
    {
      "cell_type": "code",
      "source": [
        "import torch\n",
        "from diffusers import StableDiffusionPipeline\n",
        "import gradio as gr\n",
        "from PIL import Image, ImageDraw, ImageFont\n",
        "\n",
        "# Check CUDA availability\n",
        "if torch.cuda.is_available():\n",
        "    device = \"cuda\"\n",
        "    torch_dtype = torch.float16  # Use float16 for GPU efficiency\n",
        "else:\n",
        "    device = \"cpu\"\n",
        "    torch_dtype = torch.float32  # Use float32 for CPU fallback\n",
        "\n",
        "# Load Stable Diffusion model\n",
        "pipe = StableDiffusionPipeline.from_pretrained(\n",
        "    \"stabilityai/stable-diffusion-2\",\n",
        "    torch_dtype=torch_dtype\n",
        ").to(device)\n",
        "\n",
        "# Enable memory optimization\n",
        "if device == \"cuda\":\n",
        "    pipe.enable_attention_slicing()\n",
        "\n",
        "# Function to generate image based on input prompt\n",
        "def generate_image(prompt):\n",
        "    print(f\"Generating image for: {prompt}...\")\n",
        "    image = pipe(prompt).images[0]\n",
        "    return image\n",
        "\n",
        "# Function to create the comic page layout with 4 images\n",
        "def create_comic_page(introduction, storyline, climax, moral):\n",
        "    # Generate images based on user inputs\n",
        "    intro_img = generate_image(introduction)\n",
        "    story_img = generate_image(storyline)\n",
        "    climax_img = generate_image(climax)\n",
        "    moral_img = generate_image(moral)\n",
        "\n",
        "    # Define comic layout\n",
        "    comic_panels = {\n",
        "        \"Introduction\": intro_img,\n",
        "        \"Storyline\": story_img,\n",
        "        \"Climax\": climax_img,\n",
        "        \"Moral\": moral_img\n",
        "    }\n",
        "\n",
        "    # Create a blank canvas (2x2 grid for 4 images)\n",
        "    comic_width, comic_height = 1024, 1100  # Adjusted dimensions\n",
        "    comic_page = Image.new(\"RGB\", (comic_width, comic_height), \"white\")\n",
        "    draw = ImageDraw.Draw(comic_page)\n",
        "\n",
        "    # Optional: load a font (fallback to default if not found)\n",
        "    try:\n",
        "        font = ImageFont.truetype(\"arial.ttf\", 24)\n",
        "    except:\n",
        "        font = ImageFont.load_default()\n",
        "\n",
        "    # X and Y offsets for image placement\n",
        "    x_offsets = [0, 512]\n",
        "    y_offsets = [0, 550]\n",
        "\n",
        "    # Place images and titles\n",
        "    for idx, (title, img) in enumerate(comic_panels.items()):\n",
        "        x, y = x_offsets[idx % 2], y_offsets[idx // 2]\n",
        "        draw.text((x + 10, y), title, fill=\"black\", font=font)  # Draw title\n",
        "        comic_page.paste(img, (x, y + 38))  # Paste image below title\n",
        "\n",
        "    return comic_page\n",
        "\n",
        "# Gradio UI setup\n",
        "with gr.Blocks() as demo:\n",
        "    gr.Markdown(\"# 🎨 AI Comic Crafter\")\n",
        "    gr.Markdown(\"Enter prompts to generate a **comic page** with AI-generated images!\")\n",
        "\n",
        "    with gr.Row():\n",
        "        intro_input = gr.Textbox(label=\"Introduction Prompt\", placeholder=\"Enter Introduction prompt...\")\n",
        "        story_input = gr.Textbox(label=\"Storyline Prompt\", placeholder=\"Enter Storyline prompt...\")\n",
        "\n",
        "    with gr.Row():\n",
        "        climax_input = gr.Textbox(label=\"Climax Prompt\", placeholder=\"Enter Climax prompt...\")\n",
        "        moral_input = gr.Textbox(label=\"Moral Prompt\", placeholder=\"Enter Moral prompt...\")\n",
        "\n",
        "    generate_btn = gr.Button(\"Generate Comic\")\n",
        "\n",
        "    gr.Markdown(\"## Final Comic Layout\")\n",
        "    comic_output = gr.Image(label=\"Full Comic Page\")\n",
        "\n",
        "    # Button click function to generate comic\n",
        "    generate_btn.click(create_comic_page,\n",
        "                       inputs=[intro_input, story_input, climax_input, moral_input],\n",
        "                       outputs=comic_output)\n",
        "\n",
        "# Launch the Gradio app\n",
        "demo.launch(share=True)\n"
      ],
      "metadata": {
        "id": "6SBjiPuUl2MC"
      },
      "execution_count": null,
      "outputs": []
    },
    {
      "cell_type": "code",
      "source": [],
      "metadata": {
        "id": "hfIm8AlgyTqz"
      },
      "execution_count": null,
      "outputs": []
    }
  ],
  "metadata": {
    "accelerator": "GPU",
    "colab": {
      "gpuType": "T4",
      "provenance": []
    },
    "kernelspec": {
      "display_name": "Python 3",
      "name": "python3"
    },
    "language_info": {
      "name": "python"
    }
  },
  "nbformat": 4,
  "nbformat_minor": 0
}